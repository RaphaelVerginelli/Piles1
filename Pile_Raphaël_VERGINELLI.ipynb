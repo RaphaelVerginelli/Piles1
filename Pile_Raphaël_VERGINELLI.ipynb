{
 "cells": [
  {
   "cell_type": "markdown",
   "metadata": {},
   "source": [
    "# Strutures de données2 : les piles"
   ]
  },
  {
   "cell_type": "markdown",
   "metadata": {},
   "source": [
    "En python, une structure de pile, \"stack\" en anglais, peut être construite en utilisant des listes.  \n",
    "Le principe d'une pile est \"dernier entré, premier sorti\", ou en anglais LIFO.\n",
    "Les seules opérations qui seront possibles sont l'insertion ou la suppression d'un élément uniquement à la fin de la liste.\n",
    "Une comparaison : la pile d'assiettes\n",
    "<img src=\"Pile_assiette.png\" width=500 height=500 />"
   ]
  },
  {
   "cell_type": "markdown",
   "metadata": {},
   "source": [
    "Pour exprimer l'interface des piles, on note Pile[T] le type des piles contenant des éléments de type T. On aura donc les opérations suivantes :  \n",
    "\n",
    "|Fonction | - |Description |\n",
    "| ----------- |: ----------------|: ----------------: |\n",
    "|creer_pile() -> Pile[T] | - | créer une pile vide  |\n",
    "|est_vide(p: Pile[T]) -> bool | - | renvoie ```True``` si p est vide et ```False``` sinon  |\n",
    "|empiler(p: Pile[T], e: T) -> None | - | ajoute ```e``` au sommet de ```p```  |\n",
    "|depiler(p: Pile[T]) -> T | - | retire et renvoie l'élément au sommet de ```p```  |"
   ]
  },
  {
   "cell_type": "markdown",
   "metadata": {},
   "source": [
    "D'après l'interface, compléter les programmes suivants :  \n",
    "**Indication** :  \n",
    "```p[-1]``` donne le dernier élément d'une liste."
   ]
  },
  {
   "cell_type": "code",
   "execution_count": 8,
   "metadata": {},
   "outputs": [],
   "source": [
    "def creer_pile():\n",
    "    L = []\n",
    "    return L\n",
    "\n",
    "\n",
    "\n",
    "def empiler(p,x):\n",
    "    p.append(x)\n",
    "    return p\n",
    "    \n",
    "     \n",
    "def depiler(p):\n",
    "    del p[-1]\n",
    "    return p\n",
    "    \n",
    "\n",
    "def pile_vide(p):\n",
    "    if p == []:\n",
    "        return True\n",
    "    else:\n",
    "        return False\n",
    "    "
   ]
  },
  {
   "cell_type": "markdown",
   "metadata": {},
   "source": [
    "Ecrire une fonction :  \n",
    "* ```taille```qui prend en argument une pile ```p``` et renvoie la taille de la pile ```p```.  \n",
    "* ```sommet``` qui prend en argument une pile ```p``` et renvoie le sommet de la pile ```p```.    "
   ]
  },
  {
   "cell_type": "code",
   "execution_count": 15,
   "metadata": {},
   "outputs": [],
   "source": [
    "def taille(p):\n",
    "    return len(p)\n",
    "def sommet(p):\n",
    "    return p[-1]"
   ]
  },
  {
   "cell_type": "markdown",
   "metadata": {},
   "source": [
    "Tester vos fonctions avec:"
   ]
  },
  {
   "cell_type": "code",
   "execution_count": 16,
   "metadata": {},
   "outputs": [],
   "source": [
    "p = creer_pile()"
   ]
  },
  {
   "cell_type": "code",
   "execution_count": 17,
   "metadata": {},
   "outputs": [
    {
     "data": {
      "text/plain": [
       "['A']"
      ]
     },
     "execution_count": 17,
     "metadata": {},
     "output_type": "execute_result"
    }
   ],
   "source": [
    "empiler(p,\"A\")"
   ]
  },
  {
   "cell_type": "code",
   "execution_count": 18,
   "metadata": {},
   "outputs": [
    {
     "data": {
      "text/plain": [
       "['A', 'B']"
      ]
     },
     "execution_count": 18,
     "metadata": {},
     "output_type": "execute_result"
    }
   ],
   "source": [
    "empiler(p,\"B\")"
   ]
  },
  {
   "cell_type": "code",
   "execution_count": 19,
   "metadata": {},
   "outputs": [
    {
     "data": {
      "text/plain": [
       "['A', 'B', 'C']"
      ]
     },
     "execution_count": 19,
     "metadata": {},
     "output_type": "execute_result"
    }
   ],
   "source": [
    "empiler(p,\"C\")"
   ]
  },
  {
   "cell_type": "code",
   "execution_count": 20,
   "metadata": {},
   "outputs": [
    {
     "data": {
      "text/plain": [
       "3"
      ]
     },
     "execution_count": 20,
     "metadata": {},
     "output_type": "execute_result"
    }
   ],
   "source": [
    "taille(p)"
   ]
  },
  {
   "cell_type": "code",
   "execution_count": 21,
   "metadata": {},
   "outputs": [
    {
     "data": {
      "text/plain": [
       "'C'"
      ]
     },
     "execution_count": 21,
     "metadata": {},
     "output_type": "execute_result"
    }
   ],
   "source": [
    "sommet(p)"
   ]
  },
  {
   "cell_type": "code",
   "execution_count": 22,
   "metadata": {},
   "outputs": [
    {
     "data": {
      "text/plain": [
       "['A', 'B']"
      ]
     },
     "execution_count": 22,
     "metadata": {},
     "output_type": "execute_result"
    }
   ],
   "source": [
    "depiler(p)"
   ]
  },
  {
   "cell_type": "code",
   "execution_count": 23,
   "metadata": {},
   "outputs": [
    {
     "data": {
      "text/plain": [
       "['A', 'B']"
      ]
     },
     "execution_count": 23,
     "metadata": {},
     "output_type": "execute_result"
    }
   ],
   "source": [
    "p"
   ]
  },
  {
   "cell_type": "markdown",
   "metadata": {},
   "source": [
    "Dans une pile, on distingue la notion de capacité et de taille :\n",
    "* La taille est le nombre d'éléments contenu dans la pile.\n",
    "* La capacité est la taille maximale de la liste.\n",
    "On choisit de représenter une pile par sa taille ```t```, ses éléments ```e1, e2, ...``` et sa capacité en complétant les éléments non attribués par ```None```.\n",
    "Par exemple : ```p=[t, e1, e2, ..., None, None, ...]```"
   ]
  },
  {
   "cell_type": "markdown",
   "metadata": {},
   "source": [
    "Ecrire la fonction ```creer_pile2```, \n",
    "* ayant en argument une entier ```c``` qui est la capacité de la pile,\n",
    "* de taille égale à 0 (1er élément de la pile égal à 0)\n",
    "* renvoie une pile ```p```.  "
   ]
  },
  {
   "cell_type": "code",
   "execution_count": 6,
   "metadata": {},
   "outputs": [],
   "source": [
    "def creer_pile2(c):\n",
    "    p = [None]*(c+1)\n",
    "    p[0] = 0\n",
    "    return p"
   ]
  },
  {
   "cell_type": "code",
   "execution_count": 7,
   "metadata": {},
   "outputs": [],
   "source": [
    "p2 = creer_pile2(5)"
   ]
  },
  {
   "cell_type": "code",
   "execution_count": 8,
   "metadata": {},
   "outputs": [
    {
     "data": {
      "text/plain": [
       "[0, None, None, None, None, None]"
      ]
     },
     "execution_count": 8,
     "metadata": {},
     "output_type": "execute_result"
    }
   ],
   "source": [
    "p2"
   ]
  },
  {
   "cell_type": "code",
   "execution_count": 9,
   "metadata": {},
   "outputs": [],
   "source": [
    "p5 = creer_pile2(5)"
   ]
  },
  {
   "cell_type": "markdown",
   "metadata": {},
   "source": [
    "Reécrire les fonction ```empiler``` et ```depiler```, en :\n",
    "* ```empiler2``` avec la pile p et l'élément rajouté x en arguments, \n",
    "* ```depiler2``` avec la pile p en argument. "
   ]
  },
  {
   "cell_type": "code",
   "execution_count": 10,
   "metadata": {},
   "outputs": [],
   "source": [
    "def empiler2(p,x):\n",
    "    p[p[0]+1]=x\n",
    "    p[0] = p[0]+1\n",
    "    return p    "
   ]
  },
  {
   "cell_type": "code",
   "execution_count": 11,
   "metadata": {},
   "outputs": [],
   "source": [
    "def depiller2(p):\n",
    "    p[p[0]] = None\n",
    "    p[0]=p[0]-1\n",
    "    return p"
   ]
  },
  {
   "cell_type": "code",
   "execution_count": 12,
   "metadata": {},
   "outputs": [
    {
     "data": {
      "text/plain": [
       "[0, None, None, None, None, None]"
      ]
     },
     "execution_count": 12,
     "metadata": {},
     "output_type": "execute_result"
    }
   ],
   "source": [
    "creer_pile2(5)"
   ]
  },
  {
   "cell_type": "code",
   "execution_count": 27,
   "metadata": {},
   "outputs": [
    {
     "data": {
      "text/plain": [
       "[2, 2, 5, None, None, None]"
      ]
     },
     "execution_count": 27,
     "metadata": {},
     "output_type": "execute_result"
    }
   ],
   "source": [
    "empiler2(p5,5)"
   ]
  },
  {
   "cell_type": "code",
   "execution_count": 14,
   "metadata": {},
   "outputs": [
    {
     "data": {
      "text/plain": [
       "[0, None, None, None, None, None]"
      ]
     },
     "execution_count": 14,
     "metadata": {},
     "output_type": "execute_result"
    }
   ],
   "source": [
    "depiller2(p5)"
   ]
  },
  {
   "cell_type": "markdown",
   "metadata": {},
   "source": [
    "On redonnera les fonctions pile_vide2, taille2 et sommet2."
   ]
  },
  {
   "cell_type": "code",
   "execution_count": 29,
   "metadata": {},
   "outputs": [],
   "source": [
    "def pile_vide2(p):\n",
    "    if p[0] == 0:\n",
    "        return True\n",
    "    return False"
   ]
  },
  {
   "cell_type": "code",
   "execution_count": 30,
   "metadata": {},
   "outputs": [
    {
     "data": {
      "text/plain": [
       "False"
      ]
     },
     "execution_count": 30,
     "metadata": {},
     "output_type": "execute_result"
    }
   ],
   "source": [
    "pile_vide2(p5)"
   ]
  },
  {
   "cell_type": "code",
   "execution_count": 32,
   "metadata": {},
   "outputs": [],
   "source": [
    "def taille2(p):\n",
    "    return p[0]"
   ]
  },
  {
   "cell_type": "code",
   "execution_count": 33,
   "metadata": {},
   "outputs": [
    {
     "data": {
      "text/plain": [
       "2"
      ]
     },
     "execution_count": 33,
     "metadata": {},
     "output_type": "execute_result"
    }
   ],
   "source": [
    "taille2(p5)"
   ]
  },
  {
   "cell_type": "code",
   "execution_count": 34,
   "metadata": {},
   "outputs": [],
   "source": [
    "def sommet2(p):\n",
    "    return p[p[0]]"
   ]
  },
  {
   "cell_type": "code",
   "execution_count": 35,
   "metadata": {},
   "outputs": [
    {
     "data": {
      "text/plain": [
       "5"
      ]
     },
     "execution_count": 35,
     "metadata": {},
     "output_type": "execute_result"
    }
   ],
   "source": [
    "sommet2(p5)"
   ]
  },
  {
   "cell_type": "markdown",
   "metadata": {},
   "source": [
    "Tester vos programmes."
   ]
  },
  {
   "cell_type": "markdown",
   "metadata": {},
   "source": [
    "**Exercice n°1**  \n",
    "1. Dans Visual Studio Code, reprendre les fonctions ```creer_pile```, ```empiler```, ```depiler``` et ```taille``` permettant de créer à l'aide de listes une pile à capacité bornée et les écrire dans un fichier mes_piles.py. Dans la suite, ce sont les seules fonctions utilisables avec une pile. Elles constituent l'interface, c'est-à-dire que, dans un autre fichier contenant une nouvelle fonction, on appelera cette interface en écrivant : ```from mes_piles import *```.\n",
    "2. Dans un nouveau fichier ```creation_pile.py```, écrire les instructions qui permettent de créer un pile de capacité 5. Empiler les caractères ```'A'```, ```'B'```, ```'C'```, et ```'D'```. Vérifier que la liste est ```[4, 'A', 'B', 'C', 'D', None]```.\n",
    "3. Ecrire une fonction ```vider_pile``` qui prend en argument une pile ```p``` et renvoie la pile vidée.\n",
    "4. Ecrire une fonction ```inverse_pile``` qui prend en argument une pile ```p``` et renvoie une autre pile avec les éléments empilés dans l'ordre inverse. Le pile ```p``` peut être vidée.\n",
    "5. Reprendre la question précédente avec la condition que la pile ```p``` ne soit pas modifiée."
   ]
  },
  {
   "cell_type": "code",
   "execution_count": null,
   "metadata": {},
   "outputs": [],
   "source": []
  }
 ],
 "metadata": {
  "kernelspec": {
   "display_name": "Python 3",
   "language": "python",
   "name": "python3"
  },
  "language_info": {
   "codemirror_mode": {
    "name": "ipython",
    "version": 3
   },
   "file_extension": ".py",
   "mimetype": "text/x-python",
   "name": "python",
   "nbconvert_exporter": "python",
   "pygments_lexer": "ipython3",
   "version": "3.9.5"
  }
 },
 "nbformat": 4,
 "nbformat_minor": 4
}
